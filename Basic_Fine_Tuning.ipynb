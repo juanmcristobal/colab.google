{
  "nbformat": 4,
  "nbformat_minor": 0,
  "metadata": {
    "colab": {
      "provenance": [],
      "gpuType": "T4"
    },
    "kernelspec": {
      "name": "python3",
      "display_name": "Python 3"
    },
    "language_info": {
      "name": "python"
    },
    "accelerator": "GPU"
  },
  "cells": [
    {
      "cell_type": "code",
      "source": [
        "# ==========================\n",
        "# 1. Library Installation\n",
        "# ==========================\n",
        "!pip install transformers datasets torch nlpaug\n",
        "!pip install evaluate"
      ],
      "metadata": {
        "id": "NY9gnf5DX6rc"
      },
      "execution_count": null,
      "outputs": []
    },
    {
      "cell_type": "code",
      "source": [
        "# ==========================\n",
        "# 2. Import Required Libraries\n",
        "# ==========================\n",
        "from transformers import BertTokenizer, BertForSequenceClassification, TrainingArguments, Trainer, pipeline, DataCollatorWithPadding\n",
        "from datasets import load_dataset\n",
        "import torch"
      ],
      "metadata": {
        "id": "GHITmFwDYRC9"
      },
      "execution_count": null,
      "outputs": []
    },
    {
      "cell_type": "code",
      "source": [
        "# ==========================\n",
        "# 3. Configure Model and Tokenizer\n",
        "# ==========================\n",
        "model_name = 'bert-base-uncased'\n",
        "tokenizer = BertTokenizer.from_pretrained(model_name)\n",
        "\n",
        "# Configure Device (GPU or CPU)\n",
        "device = torch.device(\"cuda\" if torch.cuda.is_available() else \"cpu\")"
      ],
      "metadata": {
        "id": "34ZdPV-mYXOm"
      },
      "execution_count": null,
      "outputs": []
    },
    {
      "cell_type": "code",
      "source": [
        "# ==========================\n",
        "# 4. Load and Process Dataset\n",
        "# ==========================\n",
        "# Load IMDB dataset\n",
        "dataset = load_dataset(\"imdb\")\n",
        "\n",
        "# Tokenization\n",
        "def tokenize_function(examples):\n",
        "    return tokenizer(examples['text'], padding=\"max_length\", truncation=True, max_length=512)\n",
        "\n",
        "tokenized_datasets = dataset.map(tokenize_function, batched=True)\n",
        "\n",
        "# Reduce dataset size for quick testing\n",
        "train_dataset = tokenized_datasets[\"train\"].shuffle(seed=42).select(range(2000))\n",
        "test_dataset = tokenized_datasets[\"test\"].shuffle(seed=42).select(range(500))"
      ],
      "metadata": {
        "id": "yfi9d0plYdYN"
      },
      "execution_count": null,
      "outputs": []
    },
    {
      "cell_type": "code",
      "source": [
        "# ==========================\n",
        "# 5. Untrained Model (Pretrained)\n",
        "# ==========================\n",
        "untrained_model = BertForSequenceClassification.from_pretrained(model_name, num_labels=2).to(device)\n",
        "untrained_pipeline = pipeline(\"sentiment-analysis\", model=untrained_model, tokenizer=tokenizer, device=0)"
      ],
      "metadata": {
        "id": "0KlD8m-bYpLQ"
      },
      "execution_count": null,
      "outputs": []
    },
    {
      "cell_type": "code",
      "source": [
        "# ==========================\n",
        "# 6. Train the Model\n",
        "# ==========================\n",
        "trained_model = BertForSequenceClassification.from_pretrained(model_name, num_labels=2).to(device)\n",
        "training_args = TrainingArguments(\n",
        "    output_dir=\"./results\",\n",
        "    eval_strategy=\"epoch\",\n",
        "    save_strategy=\"epoch\",\n",
        "    learning_rate=2e-5,\n",
        "    per_device_train_batch_size=16,\n",
        "    per_device_eval_batch_size=16,\n",
        "    num_train_epochs=3,\n",
        "    weight_decay=0.01,\n",
        "    logging_dir=\"./logs\",\n",
        "    logging_steps=50,\n",
        "    load_best_model_at_end=True,\n",
        "    report_to=\"none\"\n",
        ")\n",
        "data_collator = DataCollatorWithPadding(tokenizer=tokenizer)\n",
        "trainer = Trainer(\n",
        "    model=trained_model,\n",
        "    args=training_args,\n",
        "    train_dataset=train_dataset,\n",
        "    eval_dataset=test_dataset,\n",
        "    data_collator=data_collator\n",
        ")\n",
        "trainer.train()\n",
        "trainer.save_model(\"./trained_model\")\n",
        "trained_pipeline = pipeline(\"sentiment-analysis\", model=\"./trained_model\", tokenizer=tokenizer, device=0)"
      ],
      "metadata": {
        "id": "HIG8gX57YwF4"
      },
      "execution_count": null,
      "outputs": []
    }
  ]
}